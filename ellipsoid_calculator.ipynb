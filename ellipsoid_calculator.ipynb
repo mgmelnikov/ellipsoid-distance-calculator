{
 "cells": [
  {
   "cell_type": "code",
   "execution_count": 1,
   "id": "803415f5-225d-4360-8ef7-81454615c502",
   "metadata": {},
   "outputs": [
    {
     "name": "stderr",
     "output_type": "stream",
     "text": [
      "/home/sda/.local/lib/python3.10/site-packages/pandas/core/computation/expressions.py:21: UserWarning: Pandas requires version '2.8.4' or newer of 'numexpr' (version '2.8.1' currently installed).\n",
      "  from pandas.core.computation.check import NUMEXPR_INSTALLED\n"
     ]
    },
    {
     "name": "stdout",
     "output_type": "stream",
     "text": [
      "CPU times: user 3.62 s, sys: 2.14 s, total: 5.76 s\n",
      "Wall time: 2.85 s\n"
     ]
    },
    {
     "name": "stderr",
     "output_type": "stream",
     "text": [
      "<timed exec>:54: FutureWarning: Setting an item of incompatible dtype is deprecated and will raise an error in a future version of pandas. Value '416536.46631904336' has dtype incompatible with int64, please explicitly cast to a compatible dtype first.\n"
     ]
    }
   ],
   "source": [
    "%%time\n",
    "import geopandas as gpd\n",
    "import shapely\n",
    "import pandas as pd\n",
    "import numpy as np\n",
    "import re\n",
    "from pygeodesy.ellipsoidalVincenty import LatLon\n",
    "from pygeodesy import Datums\n",
    "\n",
    "\n",
    "\n",
    "# ================================================ #\n",
    "#     Считаем длину входных линий по эллипсоиду    #\n",
    "# ================================================ #\n",
    "\n",
    "\n",
    "\n",
    "# Считываем входной файл и генерируем dataframe\n",
    "# df = gpd.read_file(\"ellipsoid_distance_ref.geojson\")\n",
    "df = gpd.read_file(\"m12_roadway.geojson\")\n",
    "\n",
    "# Создаем рабочий dataframe и добавляем столбец с расстоянием\n",
    "calculated_df = df.assign(ellipsoid_distance=0)\n",
    "\n",
    "# Запускаем цикл подсчета расстояния для всех значений таблицы\n",
    "for required_id in range(len(df)):\n",
    "    if 'MULTILINESTRING' in str(df['geometry'][required_id]):\n",
    "        coords_pos_start = str(df['geometry'][required_id]).find('((') + 2\n",
    "    elif 'LINESTRING' in str(df['geometry'][required_id]):\n",
    "        coords_pos_start = str(df['geometry'][required_id]).find('(') + 1\n",
    "    # Фильтруем мусор\n",
    "    initial_string = str(df['geometry'][required_id])[coords_pos_start::]\n",
    "    filtered_string = re.sub(r\"[)(]\", \"\", initial_string)\n",
    "    # Разделяем WKT по вершинкам LatLon\n",
    "    coords_list = filtered_string.split(', ')\n",
    "    # Переводим всё в нумпай массив\n",
    "    initial_array = np.array(coords_list, str)\n",
    "    coords_pairs = []\n",
    "    # Запускаем цикл по сплиту и генерации пар\n",
    "    for i in range(len(initial_array)):\n",
    "        coords_pairs.append(initial_array[i].split(' '))\n",
    "    coords_array = np.array(coords_pairs, float)\n",
    "    distance_list = []\n",
    "    # Запускаем цикл по расчету расстояния по эллипсоиду\n",
    "    for index in range(len(coords_array)):\n",
    "        if index+1 < len(coords_array):\n",
    "            first_point = LatLon(coords_array[index][1], coords_array[index][0], datum=Datums.WGS84)\n",
    "            second_point = LatLon(coords_array[index+1][1], coords_array[index+1][0], datum=Datums.WGS84)\n",
    "            distance_list.append(first_point.distanceTo(second_point))\n",
    "    # Засовываем всё в нумпай массив\n",
    "    distance_array = np.array(distance_list, float)\n",
    "    # Добавляем в рабочий df рассчитанное расстояние\n",
    "    calculated_df.at[required_id, 'ellipsoid_distance'] = sum(distance_array)\n",
    "\n",
    "\n",
    "# Экспортируем полученные данные в нужный формат\n",
    "export_gdf = gpd.GeoDataFrame(calculated_df, geometry=\"geometry\")\n",
    "# export_gdf.to_file(\"calculated_ellipsoid_distance.geojson\", driver=\"GeoJSON\")\n",
    "\n",
    "\n",
    "\n",
    "# =============================================== #\n",
    "#  Генерируем точки каждые X метров по эллипсоиду #\n",
    "# =============================================== #\n",
    "\n",
    "\n",
    "\n",
    "required_distance = 1000 # метры\n",
    "\n",
    "step_array = np.arange(0, 1, 1/(export_gdf['ellipsoid_distance'][0]/required_distance))\n",
    "\n",
    "\"\"\"\n",
    "    \n",
    "    ОПЦИОНАЛЬНО -- ГАЛОЧКА, ЕСЛИ НУЖНА КОНЕЧНАЯ ТОЧКА:\n",
    "                ДОБАВИТЬ СЛЕДУЮЩУЮ СТРОКУ\n",
    "                \n",
    "    ==================================================\n",
    "            step_array = np.append(step_array, 1)\n",
    "    ==================================================\n",
    "    \n",
    "\"\"\"\n",
    "# ==================================== #\n",
    "#         Опциональная функция         #\n",
    "step_array = np.append(step_array, 1)\n",
    "# ==================================== #\n",
    "\n",
    "# Параметр normalized=True означает, что это доля прямой, а не метр\n",
    "parts_list = shapely.line_interpolate_point(export_gdf['geometry'][0], step_array, normalized=True).tolist()\n",
    "\n",
    "temp_df = pd.DataFrame(parts_list, columns=['geometry'])\n",
    "temp_df['id'] = np.arange(1, 1+len(temp_df), 1)\n",
    "temp_df['distance'] = np.arange(0, required_distance*len(temp_df), required_distance)\n",
    "temp_df = temp_df.replace(temp_df['distance'][len(temp_df)-1],export_gdf['ellipsoid_distance'][0])\n",
    "\n",
    "parts_gdf = gpd.GeoDataFrame(temp_df, geometry=\"geometry\")\n",
    "# parts_gdf.to_file(\"test.geojson\", driver=\"GeoJSON\")"
   ]
  }
 ],
 "metadata": {
  "kernelspec": {
   "display_name": "Python 3 (ipykernel)",
   "language": "python",
   "name": "python3"
  },
  "language_info": {
   "codemirror_mode": {
    "name": "ipython",
    "version": 3
   },
   "file_extension": ".py",
   "mimetype": "text/x-python",
   "name": "python",
   "nbconvert_exporter": "python",
   "pygments_lexer": "ipython3",
   "version": "3.10.6"
  }
 },
 "nbformat": 4,
 "nbformat_minor": 5
}
